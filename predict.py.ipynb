{
 "cells": [
  {
   "cell_type": "code",
   "execution_count": 242,
   "metadata": {},
   "outputs": [],
   "source": [
    "import pandas as pd\n",
    "import numpy as np\n",
    "import matplotlib.pyplot as plt\n",
    "plt.rcParams['font.sans-serif']=['SimHei'] #用来正常显示中文标签\n",
    "plt.rcParams['axes.unicode_minus']=False #用来正常显示负号\n",
    "\n",
    "import warnings\n",
    "warnings.filterwarnings(\"ignore\")\n",
    "from sklearn.model_selection import cross_val_score\n",
    "from sklearn.model_selection import train_test_split\n",
    "from sklearn import preprocessing\n",
    "from sklearn.preprocessing import PolynomialFeatures\n",
    "from sklearn import linear_model\n",
    "from sklearn.ensemble import GradientBoostingRegressor\n",
    "from sklearn.metrics import mean_squared_error,r2_score\n",
    "from sklearn.ensemble import AdaBoostRegressor\n",
    "from sklearn import svm\n",
    "from sklearn.ensemble import RandomForestRegressor\n",
    "from sklearn.ensemble import BaggingRegressor\n",
    "from sklearn.tree import DecisionTreeRegressor"
   ]
  },
  {
   "cell_type": "code",
   "execution_count": 243,
   "metadata": {},
   "outputs": [],
   "source": [
    "file = pd.read_csv('data222.csv')\n",
    "\n",
    "X = file.iloc[:,:17]\n",
    "y = file.iloc[:,17]\n",
    "\n",
    "poly = PolynomialFeatures(2,include_bias=0)\n",
    "    #implement polynomial degree=2\n",
    "X=poly.fit_transform(X)\n",
    "X_n=X\n",
    "y_n=y\n",
    "X_train_o,X_test_o,y_train_o,y_test_o = train_test_split(X_n,y_n,test_size=0.2,random_state=1) # These variables are before gaussian noise.\n",
    "#print(y)\n",
    "for i in range(10):#-------add gaussian noise. 加入高斯噪声。改变range里的数字可以控制加入噪声的数量。\n",
    "        X_noise=np.random.normal(0,1,np.shape(X))*0.01\n",
    "        X_n=np.r_[X_n,X+X_noise]\n",
    "        y_n=np.r_[y_n,y]\n",
    "    \n",
    "X_train,X_test,y_train,y_test = train_test_split(X_n,y_n,test_size=0.2,random_state=0) #These vairables are after gaussian noise.\n",
    "\n"
   ]
  },
  {
   "cell_type": "code",
   "execution_count": 244,
   "metadata": {
    "scrolled": true
   },
   "outputs": [
    {
     "name": "stdout",
     "output_type": "stream",
     "text": [
      "测试集的RMSE：0.07777244076833886\n",
      "总的RMSE：0.08991227060250993\n",
      "测试集的R2：0.9803623322206079\n",
      "总的R2：0.9745022101091593\n"
     ]
    }
   ],
   "source": [
    "#指定的模型为GBR\n",
    "model = GradientBoostingRegressor(min_samples_split=2,max_depth=2,max_features='sqrt',min_samples_leaf=4,n_estimators=300,learning_rate=0.05)\n",
    "#用训练数据进行模型拟合\n",
    "model.fit(X_train,y_train)\n",
    "y_pred1 = model.predict(X_test_o)\n",
    "y_pred2 = model.predict(X_train_o)\n",
    "y_test1 = y_test_o\n",
    "y_test2 = y_train_o\n",
    "y_pred_all = np.hstack((y_pred1,y_pred2))\n",
    "y_test_all = np.hstack((y_test1,y_test2))\n",
    "print(\"测试集的RMSE：\"+str((mean_squared_error(y_pred1,y_test1))**0.5))\n",
    "print(\"总的RMSE：\"+str((mean_squared_error(y_pred_all,y_test_all)**0.5)))\n",
    "\n",
    "\n",
    "\n",
    "    # Second plot.\n",
    "\n",
    "print(\"测试集的R2：\"+str(r2_score(y_pred1,y_test1)))\n",
    "print(\"总的R2：\"+str(r2_score(y_pred_all,y_test_all)))\n",
    "\n",
    "\n",
    "\n",
    "\n",
    "\n"
   ]
  },
  {
   "cell_type": "code",
   "execution_count": 245,
   "metadata": {},
   "outputs": [],
   "source": [
    "#用拟合好了的模型进行预测，read_csv()括号里填入需要预测的原始数据\n",
    "predict_original_X = pd.read_csv('RhPd.csv').iloc[:,:]  #这里一定要保证读取进来的数据是和训练数据的X部分相同的，\n",
    "#可以直接在read_csv后面加.iloc裁切数据\n",
    "\n",
    "predict_original_X = poly.fit_transform(predict_original_X)#需要再次进行多项式处理以保持一致\n",
    "predict_result = model.predict(predict_original_X)#预测的结果"
   ]
  },
  {
   "cell_type": "code",
   "execution_count": 246,
   "metadata": {},
   "outputs": [],
   "source": [
    "#将结果保存下来\n",
    "np.savetxt('预测1111.csv',predict_result,delimiter=\",\")\n",
    "#print(predict_result)"
   ]
  },
  {
   "cell_type": "code",
   "execution_count": 247,
   "metadata": {},
   "outputs": [],
   "source": [
    "df = pd.read_csv(\"预测1111.csv\")\n",
    "X = df.iloc[:,:]"
   ]
  },
  {
   "cell_type": "code",
   "execution_count": 248,
   "metadata": {},
   "outputs": [
    {
     "data": {
      "text/html": [
       "<div>\n",
       "<style scoped>\n",
       "    .dataframe tbody tr th:only-of-type {\n",
       "        vertical-align: middle;\n",
       "    }\n",
       "\n",
       "    .dataframe tbody tr th {\n",
       "        vertical-align: top;\n",
       "    }\n",
       "\n",
       "    .dataframe thead th {\n",
       "        text-align: right;\n",
       "    }\n",
       "</style>\n",
       "<table border=\"1\" class=\"dataframe\">\n",
       "  <thead>\n",
       "    <tr style=\"text-align: right;\">\n",
       "      <th></th>\n",
       "      <th>-7.988714617910881444e-01</th>\n",
       "    </tr>\n",
       "  </thead>\n",
       "  <tbody>\n",
       "  </tbody>\n",
       "</table>\n",
       "</div>"
      ],
      "text/plain": [
       "Empty DataFrame\n",
       "Columns: [-7.988714617910881444e-01]\n",
       "Index: []"
      ]
     },
     "execution_count": 248,
     "metadata": {},
     "output_type": "execute_result"
    }
   ],
   "source": [
    "X"
   ]
  },
  {
   "cell_type": "code",
   "execution_count": null,
   "metadata": {},
   "outputs": [],
   "source": []
  }
 ],
 "metadata": {
  "kernelspec": {
   "display_name": "Python 3",
   "language": "python",
   "name": "python3"
  },
  "language_info": {
   "codemirror_mode": {
    "name": "ipython",
    "version": 3
   },
   "file_extension": ".py",
   "mimetype": "text/x-python",
   "name": "python",
   "nbconvert_exporter": "python",
   "pygments_lexer": "ipython3",
   "version": "3.8.8"
  }
 },
 "nbformat": 4,
 "nbformat_minor": 4
}
